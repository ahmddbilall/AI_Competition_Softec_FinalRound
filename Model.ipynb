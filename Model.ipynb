{
 "cells": [
  {
   "cell_type": "code",
   "execution_count": 33,
   "metadata": {},
   "outputs": [],
   "source": [
    "import pandas as pd\n",
    "import os\n",
    "from PIL import Image\n",
    "import tensorflow as tf\n",
    "from tensorflow.keras.models import Sequential\n",
    "from tensorflow.keras.layers import Dense, Dropout, Conv2D, MaxPool2D, Flatten\n",
    "import numpy as np\n",
    "import matplotlib.pyplot as plt\n",
    "from sklearn.model_selection import train_test_split"
   ]
  },
  {
   "cell_type": "code",
   "execution_count": 34,
   "metadata": {},
   "outputs": [
    {
     "name": "stderr",
     "output_type": "stream",
     "text": [
      "C:\\Users\\shame\\AppData\\Local\\Temp\\ipykernel_4652\\1397326645.py:7: FutureWarning: Series.__getitem__ treating keys as positions is deprecated. In a future version, integer keys will always be treated as labels (consistent with DataFrame behavior). To access a value by position, use `ser.iloc[pos]`\n",
      "  image_name = row[0]\n",
      "C:\\Users\\shame\\AppData\\Local\\Temp\\ipykernel_4652\\1397326645.py:8: FutureWarning: Series.__getitem__ treating keys as positions is deprecated. In a future version, integer keys will always be treated as labels (consistent with DataFrame behavior). To access a value by position, use `ser.iloc[pos]`\n",
      "  if row[1] == 'Normal':\n"
     ]
    }
   ],
   "source": [
    "img_size = (64, 64)\n",
    "\n",
    "X = []\n",
    "Y = []\n",
    "train = pd.read_csv('data/Training.csv')\n",
    "for index, row in train.iterrows():\n",
    "    image_name = row[0]\n",
    "    if row[1] == 'Normal':\n",
    "        label = 0\n",
    "    else:\n",
    "        label = 1\n",
    "    img = Image.open(os.path.join('data/Training Image', image_name))\n",
    "    img = img.resize(img_size)\n",
    "    img_array = np.array(img) / 255.0\n",
    "    X.append(img_array)\n",
    "    Y.append(label)"
   ]
  },
  {
   "cell_type": "code",
   "execution_count": 38,
   "metadata": {},
   "outputs": [],
   "source": [
    "X = np.array(X)\n",
    "Y = np.array(Y)\n",
    "\n",
    "X_train, X_test, Y_train, Y_test = train_test_split(X, Y, test_size=0.2, random_state=42)"
   ]
  },
  {
   "cell_type": "code",
   "execution_count": 35,
   "metadata": {},
   "outputs": [],
   "source": [
    "model = Sequential()\n",
    "model.add(Conv2D(16, (3, 3), activation='relu', input_shape=(64, 64, 4)))\n",
    "model.add(MaxPool2D())\n",
    "model.add(Conv2D(32, (3, 3), activation='relu'))\n",
    "model.add(MaxPool2D())\n",
    "model.add(Flatten())\n",
    "model.add(Dense(256, activation='relu'))\n",
    "model.add(Dropout(0.2))\n",
    "model.add(Dense(1, activation='sigmoid'))"
   ]
  },
  {
   "cell_type": "code",
   "execution_count": 36,
   "metadata": {},
   "outputs": [],
   "source": [
    "model.compile(loss='binary_crossentropy', optimizer='adam', metrics=['accuracy'])"
   ]
  },
  {
   "cell_type": "code",
   "execution_count": 39,
   "metadata": {},
   "outputs": [
    {
     "name": "stdout",
     "output_type": "stream",
     "text": [
      "Epoch 1/30\n",
      "2/2 [==============================] - 5s 116ms/step - loss: 0.7611 - accuracy: 0.5909\n",
      "Epoch 2/30\n",
      "2/2 [==============================] - 0s 76ms/step - loss: 0.7308 - accuracy: 0.4848\n",
      "Epoch 3/30\n",
      "2/2 [==============================] - 0s 77ms/step - loss: 0.7120 - accuracy: 0.5000\n",
      "Epoch 4/30\n",
      "2/2 [==============================] - 0s 82ms/step - loss: 0.6802 - accuracy: 0.5758\n",
      "Epoch 5/30\n",
      "2/2 [==============================] - 0s 86ms/step - loss: 0.6893 - accuracy: 0.5909\n",
      "Epoch 6/30\n",
      "2/2 [==============================] - 0s 76ms/step - loss: 0.6785 - accuracy: 0.5909\n",
      "Epoch 7/30\n",
      "2/2 [==============================] - 0s 77ms/step - loss: 0.6830 - accuracy: 0.5909\n",
      "Epoch 8/30\n",
      "2/2 [==============================] - 0s 86ms/step - loss: 0.6858 - accuracy: 0.5909\n",
      "Epoch 9/30\n",
      "2/2 [==============================] - 0s 75ms/step - loss: 0.6757 - accuracy: 0.5909\n",
      "Epoch 10/30\n",
      "2/2 [==============================] - 0s 75ms/step - loss: 0.6722 - accuracy: 0.5909\n",
      "Epoch 11/30\n",
      "2/2 [==============================] - 0s 70ms/step - loss: 0.6710 - accuracy: 0.5909\n",
      "Epoch 12/30\n",
      "2/2 [==============================] - 0s 67ms/step - loss: 0.6734 - accuracy: 0.5909\n",
      "Epoch 13/30\n",
      "2/2 [==============================] - 0s 74ms/step - loss: 0.6763 - accuracy: 0.5909\n",
      "Epoch 14/30\n",
      "2/2 [==============================] - 0s 75ms/step - loss: 0.6610 - accuracy: 0.5909\n",
      "Epoch 15/30\n",
      "2/2 [==============================] - 0s 87ms/step - loss: 0.6598 - accuracy: 0.5909\n",
      "Epoch 16/30\n",
      "2/2 [==============================] - 0s 120ms/step - loss: 0.6528 - accuracy: 0.5909\n",
      "Epoch 17/30\n",
      "2/2 [==============================] - 0s 81ms/step - loss: 0.6433 - accuracy: 0.6212\n",
      "Epoch 18/30\n",
      "2/2 [==============================] - 0s 82ms/step - loss: 0.6474 - accuracy: 0.6667\n",
      "Epoch 19/30\n",
      "2/2 [==============================] - 0s 75ms/step - loss: 0.6287 - accuracy: 0.6515\n",
      "Epoch 20/30\n",
      "2/2 [==============================] - 0s 78ms/step - loss: 0.6313 - accuracy: 0.6364\n",
      "Epoch 21/30\n",
      "2/2 [==============================] - 0s 64ms/step - loss: 0.6006 - accuracy: 0.7121\n",
      "Epoch 22/30\n",
      "2/2 [==============================] - 0s 62ms/step - loss: 0.6006 - accuracy: 0.7424\n",
      "Epoch 23/30\n",
      "2/2 [==============================] - 0s 63ms/step - loss: 0.6081 - accuracy: 0.6970\n",
      "Epoch 24/30\n",
      "2/2 [==============================] - 0s 62ms/step - loss: 0.5923 - accuracy: 0.7424\n",
      "Epoch 25/30\n",
      "2/2 [==============================] - 0s 60ms/step - loss: 0.5574 - accuracy: 0.7273\n",
      "Epoch 26/30\n",
      "2/2 [==============================] - 0s 59ms/step - loss: 0.5684 - accuracy: 0.6970\n",
      "Epoch 27/30\n",
      "2/2 [==============================] - 0s 64ms/step - loss: 0.5631 - accuracy: 0.7424\n",
      "Epoch 28/30\n",
      "2/2 [==============================] - 0s 55ms/step - loss: 0.5272 - accuracy: 0.7424\n",
      "Epoch 29/30\n",
      "2/2 [==============================] - 0s 64ms/step - loss: 0.5314 - accuracy: 0.7576\n",
      "Epoch 30/30\n",
      "2/2 [==============================] - 0s 73ms/step - loss: 0.5349 - accuracy: 0.8182\n"
     ]
    }
   ],
   "source": [
    "history = model.fit(X, Y, epochs=20, batch_size=32)"
   ]
  },
  {
   "cell_type": "code",
   "execution_count": 40,
   "metadata": {},
   "outputs": [
    {
     "name": "stdout",
     "output_type": "stream",
     "text": [
      "1/1 [==============================] - 1s 858ms/step - loss: 0.6236 - accuracy: 0.7143\n",
      "Loss: 0.6236007809638977, Accuracy: 0.7142857313156128\n"
     ]
    }
   ],
   "source": [
    "loss, accuracy = model.evaluate(X_test, Y_test)\n",
    "print(f\"Loss: {loss}, Accuracy: {accuracy}\")"
   ]
  },
  {
   "cell_type": "markdown",
   "metadata": {},
   "source": [
    "# Testing"
   ]
  },
  {
   "cell_type": "code",
   "execution_count": 41,
   "metadata": {},
   "outputs": [
    {
     "name": "stderr",
     "output_type": "stream",
     "text": [
      "C:\\Users\\shame\\AppData\\Local\\Temp\\ipykernel_4652\\732432599.py:4: FutureWarning: Series.__getitem__ treating keys as positions is deprecated. In a future version, integer keys will always be treated as labels (consistent with DataFrame behavior). To access a value by position, use `ser.iloc[pos]`\n",
      "  filename = row[0]\n"
     ]
    }
   ],
   "source": [
    "test_images = []\n",
    "test = pd.read_csv('data/Testing.csv')\n",
    "for index,row in test.iterrows():\n",
    "    filename = row[0]\n",
    "    img = Image.open(os.path.join('data/Testing Image', filename))\n",
    "    img = img.resize(img_size)\n",
    "    img_array = np.array(img) / 255.0\n",
    "    test_images.append(img_array)\n",
    "\n",
    "test_images = np.array(test_images)"
   ]
  },
  {
   "cell_type": "code",
   "execution_count": 42,
   "metadata": {},
   "outputs": [
    {
     "name": "stdout",
     "output_type": "stream",
     "text": [
      "4/4 [==============================] - 0s 22ms/step\n"
     ]
    }
   ],
   "source": [
    "predictions = model.predict(test_images)"
   ]
  },
  {
   "cell_type": "code",
   "execution_count": 43,
   "metadata": {},
   "outputs": [],
   "source": [
    "test = pd.read_csv('data/Testing.csv')\n",
    "test['Label'] = predictions\n",
    "test['Label'] = test['Label'].apply(lambda x: 'Mitosis' if x > 0.5 else 'Normal')"
   ]
  },
  {
   "cell_type": "code",
   "execution_count": 44,
   "metadata": {},
   "outputs": [],
   "source": [
    "test.to_csv('predtions.csv',index=False)"
   ]
  },
  {
   "cell_type": "markdown",
   "metadata": {},
   "source": []
  }
 ],
 "metadata": {
  "kernelspec": {
   "display_name": "Python 3",
   "language": "python",
   "name": "python3"
  },
  "language_info": {
   "codemirror_mode": {
    "name": "ipython",
    "version": 3
   },
   "file_extension": ".py",
   "mimetype": "text/x-python",
   "name": "python",
   "nbconvert_exporter": "python",
   "pygments_lexer": "ipython3",
   "version": "3.11.5"
  }
 },
 "nbformat": 4,
 "nbformat_minor": 2
}
