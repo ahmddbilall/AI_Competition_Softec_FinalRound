{
 "cells": [
  {
   "cell_type": "code",
   "execution_count": 1,
   "metadata": {},
   "outputs": [
    {
     "name": "stdout",
     "output_type": "stream",
     "text": [
      "WARNING:tensorflow:From c:\\Users\\shame\\AppData\\Local\\Programs\\Python\\Python311\\Lib\\site-packages\\keras\\src\\losses.py:2976: The name tf.losses.sparse_softmax_cross_entropy is deprecated. Please use tf.compat.v1.losses.sparse_softmax_cross_entropy instead.\n",
      "\n"
     ]
    }
   ],
   "source": [
    "import pandas as pd\n",
    "import os\n",
    "from PIL import Image\n",
    "import tensorflow as tf\n",
    "from tensorflow.keras.models import Sequential\n",
    "from tensorflow.keras.layers import Dense, Dropout, Conv2D, MaxPool2D, Flatten\n",
    "import numpy as np\n",
    "import matplotlib.pyplot as plt\n",
    "from sklearn.model_selection import train_test_split"
   ]
  },
  {
   "cell_type": "code",
   "execution_count": 11,
   "metadata": {},
   "outputs": [
    {
     "name": "stderr",
     "output_type": "stream",
     "text": [
      "C:\\Users\\shame\\AppData\\Local\\Temp\\ipykernel_4652\\395246489.py:7: FutureWarning: Series.__getitem__ treating keys as positions is deprecated. In a future version, integer keys will always be treated as labels (consistent with DataFrame behavior). To access a value by position, use `ser.iloc[pos]`\n",
      "  image_name = row[0]\n",
      "C:\\Users\\shame\\AppData\\Local\\Temp\\ipykernel_4652\\395246489.py:9: FutureWarning: Series.__getitem__ treating keys as positions is deprecated. In a future version, integer keys will always be treated as labels (consistent with DataFrame behavior). To access a value by position, use `ser.iloc[pos]`\n",
      "  if row[1] == 'Normal':\n"
     ]
    }
   ],
   "source": [
    "img_size = (64, 64)\n",
    "\n",
    "X = []\n",
    "Y = []\n",
    "train = pd.read_csv('data/Training.csv')\n",
    "for index, row in train.iterrows():\n",
    "    image_name = row[0]\n",
    "    if row[1] == 'Normal':\n",
    "        label = 0\n",
    "    else:\n",
    "        label = 1\n",
    "    img = Image.open(os.path.join('data/Training Image', image_name))\n",
    "    img = img.resize(img_size)\n",
    "    img_array = np.array(img) / 255.0\n",
    "    X.append(img_array)\n",
    "    Y.append(label)"
   ]
  },
  {
   "cell_type": "code",
   "execution_count": 12,
   "metadata": {},
   "outputs": [],
   "source": [
    "X = np.array(X)\n",
    "Y = np.array(Y)\n",
    "\n",
    "X_train, X_test, Y_train, Y_test = train_test_split(X, Y, test_size=0.2, random_state=42)"
   ]
  },
  {
   "cell_type": "code",
   "execution_count": 16,
   "metadata": {},
   "outputs": [],
   "source": [
    "model = Sequential()\n",
    "model.add(Conv2D(16, (3, 3), activation='relu', input_shape=(64, 64, 4)))\n",
    "model.add(MaxPool2D())\n",
    "model.add(Conv2D(32, (3, 3), activation='relu'))\n",
    "model.add(MaxPool2D())\n",
    "model.add(Flatten())\n",
    "model.add(Dense(256, activation='relu'))\n",
    "model.add(Dropout(0.2))\n",
    "model.add(Dense(1, activation='sigmoid'))"
   ]
  },
  {
   "cell_type": "code",
   "execution_count": 17,
   "metadata": {},
   "outputs": [],
   "source": [
    "model.compile(loss='binary_crossentropy', optimizer='adam', metrics=['accuracy'])"
   ]
  },
  {
   "cell_type": "code",
   "execution_count": 18,
   "metadata": {},
   "outputs": [
    {
     "name": "stdout",
     "output_type": "stream",
     "text": [
      "Epoch 1/20\n",
      "WARNING:tensorflow:From c:\\Users\\shame\\AppData\\Local\\Programs\\Python\\Python311\\Lib\\site-packages\\keras\\src\\utils\\tf_utils.py:492: The name tf.ragged.RaggedTensorValue is deprecated. Please use tf.compat.v1.ragged.RaggedTensorValue instead.\n",
      "\n",
      "WARNING:tensorflow:From c:\\Users\\shame\\AppData\\Local\\Programs\\Python\\Python311\\Lib\\site-packages\\keras\\src\\engine\\base_layer_utils.py:384: The name tf.executing_eagerly_outside_functions is deprecated. Please use tf.compat.v1.executing_eagerly_outside_functions instead.\n",
      "\n",
      "3/3 [==============================] - 6s 79ms/step - loss: 1.2680 - accuracy: 0.3636\n",
      "Epoch 2/20\n",
      "3/3 [==============================] - 0s 69ms/step - loss: 0.7316 - accuracy: 0.5909\n",
      "Epoch 3/20\n",
      "3/3 [==============================] - 0s 61ms/step - loss: 0.7738 - accuracy: 0.5909\n",
      "Epoch 4/20\n",
      "3/3 [==============================] - 0s 69ms/step - loss: 0.7397 - accuracy: 0.5909\n",
      "Epoch 5/20\n",
      "3/3 [==============================] - 0s 64ms/step - loss: 0.6999 - accuracy: 0.5909\n",
      "Epoch 6/20\n",
      "3/3 [==============================] - 0s 67ms/step - loss: 0.6680 - accuracy: 0.5909\n",
      "Epoch 7/20\n",
      "3/3 [==============================] - 0s 65ms/step - loss: 0.6740 - accuracy: 0.5909\n",
      "Epoch 8/20\n",
      "3/3 [==============================] - 0s 58ms/step - loss: 0.6479 - accuracy: 0.5909\n",
      "Epoch 9/20\n",
      "3/3 [==============================] - 0s 58ms/step - loss: 0.6380 - accuracy: 0.6212\n",
      "Epoch 10/20\n",
      "3/3 [==============================] - 0s 66ms/step - loss: 0.6514 - accuracy: 0.7576\n",
      "Epoch 11/20\n",
      "3/3 [==============================] - 0s 106ms/step - loss: 0.6508 - accuracy: 0.6970\n",
      "Epoch 12/20\n",
      "3/3 [==============================] - 0s 63ms/step - loss: 0.6253 - accuracy: 0.6212\n",
      "Epoch 13/20\n",
      "3/3 [==============================] - 0s 58ms/step - loss: 0.6088 - accuracy: 0.6667\n",
      "Epoch 14/20\n",
      "3/3 [==============================] - 0s 68ms/step - loss: 0.5990 - accuracy: 0.7879\n",
      "Epoch 15/20\n",
      "3/3 [==============================] - 0s 58ms/step - loss: 0.5905 - accuracy: 0.7121\n",
      "Epoch 16/20\n",
      "3/3 [==============================] - 0s 60ms/step - loss: 0.7098 - accuracy: 0.6364\n",
      "Epoch 17/20\n",
      "3/3 [==============================] - 0s 56ms/step - loss: 0.5883 - accuracy: 0.7121\n",
      "Epoch 18/20\n",
      "3/3 [==============================] - 0s 64ms/step - loss: 0.6840 - accuracy: 0.5303\n",
      "Epoch 19/20\n",
      "3/3 [==============================] - 0s 65ms/step - loss: 0.7162 - accuracy: 0.4242\n",
      "Epoch 20/20\n",
      "3/3 [==============================] - 0s 59ms/step - loss: 0.5991 - accuracy: 0.7424\n"
     ]
    }
   ],
   "source": [
    "history = model.fit(X, Y, epochs=20, batch_size=32)"
   ]
  },
  {
   "cell_type": "code",
   "execution_count": 29,
   "metadata": {},
   "outputs": [
    {
     "name": "stdout",
     "output_type": "stream",
     "text": [
      "1/1 [==============================] - 1s 816ms/step - loss: 0.6776 - acc: 0.6429\n",
      "Loss: 0.6775630116462708, Accuracy: 0.6428571343421936\n"
     ]
    }
   ],
   "source": [
    "loss, accuracy = model.evaluate(X_test, Y_test)\n",
    "print(f\"Loss: {loss}, Accuracy: {accuracy}\")"
   ]
  },
  {
   "cell_type": "markdown",
   "metadata": {},
   "source": [
    "# Testing"
   ]
  },
  {
   "cell_type": "code",
   "execution_count": 23,
   "metadata": {},
   "outputs": [
    {
     "name": "stderr",
     "output_type": "stream",
     "text": [
      "C:\\Users\\shame\\AppData\\Local\\Temp\\ipykernel_4652\\3583732807.py:4: FutureWarning: Series.__getitem__ treating keys as positions is deprecated. In a future version, integer keys will always be treated as labels (consistent with DataFrame behavior). To access a value by position, use `ser.iloc[pos]`\n",
      "  filename = row[0]\n"
     ]
    }
   ],
   "source": [
    "test_images = []\n",
    "test = pd.read_csv('data/Testing.csv')\n",
    "for index,row in test.iterrows():\n",
    "    filename = row[0]\n",
    "    img = Image.open(os.path.join('data/Testing Image', filename))\n",
    "    img = img.resize(img_size)\n",
    "    img_array = np.array(img) / 255.0\n",
    "    test_images.append(img_array)\n",
    "\n",
    "test_images = np.array(test_images)"
   ]
  },
  {
   "cell_type": "code",
   "execution_count": 30,
   "metadata": {},
   "outputs": [
    {
     "name": "stdout",
     "output_type": "stream",
     "text": [
      "4/4 [==============================] - 1s 51ms/step\n"
     ]
    }
   ],
   "source": [
    "predictions = model.predict(test_images)"
   ]
  },
  {
   "cell_type": "code",
   "execution_count": 31,
   "metadata": {},
   "outputs": [],
   "source": [
    "test = pd.read_csv('data/Testing.csv')\n",
    "test['Label'] = predictions\n",
    "test['Label'] = test['Label'].apply(lambda x: 'Mitosis' if x > 0.5 else 'Normal')"
   ]
  },
  {
   "cell_type": "code",
   "execution_count": 32,
   "metadata": {},
   "outputs": [],
   "source": [
    "test.to_csv('predtions.csv',index=False)"
   ]
  },
  {
   "cell_type": "markdown",
   "metadata": {},
   "source": []
  }
 ],
 "metadata": {
  "kernelspec": {
   "display_name": "Python 3",
   "language": "python",
   "name": "python3"
  },
  "language_info": {
   "codemirror_mode": {
    "name": "ipython",
    "version": 3
   },
   "file_extension": ".py",
   "mimetype": "text/x-python",
   "name": "python",
   "nbconvert_exporter": "python",
   "pygments_lexer": "ipython3",
   "version": "3.11.5"
  }
 },
 "nbformat": 4,
 "nbformat_minor": 2
}
